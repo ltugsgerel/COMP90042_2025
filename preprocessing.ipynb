{
 "cells": [
  {
   "cell_type": "code",
   "execution_count": null,
   "id": "d788772f",
   "metadata": {},
   "outputs": [],
   "source": [
    "import spacy\n",
    "import json\n",
    "import nltk\n",
    "import string\n",
    "from nltk.corpus import stopwords\n",
    "from nltk.tokenize import word_tokenize\n",
    "from nltk.stem import WordNetLemmatizer, PorterStemmer\n",
    "\n",
    "nlp = spacy.load(\"en_core_web_sm\")\n",
    "nltk.download(\"punkt\")\n",
    "nltk.download(\"stopwords\")\n",
    "\n",
    "# Configs\n",
    "LOWER_CASE = True\n",
    "REMOVE_STOPWORDS = True\n",
    "LEMMATIZE = True\n",
    "STEM = False \n",
    "\n",
    "stop_words = set(stopwords.words(\"english\"))\n",
    "lemmatizer = WordNetLemmatizer()\n",
    "stemmer = PorterStemmer()\n"
   ]
  },
  {
   "cell_type": "code",
   "execution_count": null,
   "id": "f48eaab3",
   "metadata": {},
   "outputs": [],
   "source": [
    "def preprocess(text):\n",
    "    if LOWER_CASE:\n",
    "        text = text.lower()\n",
    "\n",
    "    tokens = word_tokenize(text)\n",
    "    tokens = [t for t in tokens if t not in string.punctuation]\n",
    "\n",
    "    if REMOVE_STOPWORDS:\n",
    "        tokens = [t for t in tokens if t not in stop_words]\n",
    "\n",
    "    doc = nlp(\" \".join(tokens))\n",
    "    tokens = [token.lemma_ for token in doc]\n",
    "\n",
    "    if STEM:\n",
    "        tokens = [stemmer.stem(t) for t in tokens]\n",
    "\n",
    "    return \" \".join(tokens)"
   ]
  },
  {
   "cell_type": "code",
   "execution_count": null,
   "id": "f6bb4f0f",
   "metadata": {},
   "outputs": [],
   "source": [
    "# Load data\n",
    "input_path = \"data/train-claims.json\"\n",
    "with open(input_path, \"r\", encoding=\"utf-8\") as f:\n",
    "    data = json.load(f)\n",
    "\n",
    "# Preprocess based on configs\n",
    "for claim_id, claim in data.items():\n",
    "    original_text = claim.get(\"claim_text\", \"\")\n",
    "    processed_text = preprocess(original_text)\n",
    "    claim[\"processed_text\"] = processed_text\n",
    "\n",
    "# Save output\n",
    "output_path = f\"processed/processed-{input_path}.json\"\n",
    "\n",
    "with open(output_path, \"w\", encoding=\"utf-8\") as f:\n",
    "    json.dump(data, f, indent=2)\n",
    "\n",
    "print(f\"Processed claims saved to: {output_path}\")"
   ]
  }
 ],
 "metadata": {
  "kernelspec": {
   "display_name": "nlp",
   "language": "python",
   "name": "python3"
  },
  "language_info": {
   "codemirror_mode": {
    "name": "ipython",
    "version": 3
   },
   "file_extension": ".py",
   "mimetype": "text/x-python",
   "name": "python",
   "nbconvert_exporter": "python",
   "pygments_lexer": "ipython3",
   "version": "3.9.21"
  }
 },
 "nbformat": 4,
 "nbformat_minor": 5
}
